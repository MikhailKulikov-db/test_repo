{
 "cells":[
  {
   "cell_type":"markdown",
   "source":[
    "# Utils"
   ],
   "attachments":{
    
   },
   "metadata":{
    "datalore":{
     "type":"MD",
     "hide_input_from_viewers":false,
     "hide_output_from_viewers":false,
     "sheet_delimiter":true
    }
   }
  },
  {
   "cell_type":"code",
   "source":[
    "from math import sin, pi, e, log\n",
    "from typing import Callable, Tuple\n",
    "\n",
    "import numpy as np\n",
    "import pandas as pd\n",
    "import plotly.express as px\n",
    "import plotly.graph_objects as go\n",
    "from tqdm import tqdm\n",
    "\n",
    "from itertools import product\n",
    "\n",
    "from functools import partialmethod\n",
    "\n",
    "tqdm.__init__ = partialmethod(tqdm.__init__, disable=True)"
   ],
   "execution_count":1,
   "outputs":[
    
   ],
   "metadata":{
    "datalore":{
     "type":"CODE",
     "hide_input_from_viewers":false,
     "hide_output_from_viewers":false
    }
   }
  },
  {
   "cell_type":"code",
   "source":[
    "Function1 = Callable[[float], float]\n",
    "Function2 = Callable[[float, float], float]"
   ],
   "execution_count":2,
   "outputs":[
    
   ],
   "metadata":{
    "datalore":{
     "type":"CODE",
     "hide_input_from_viewers":false,
     "hide_output_from_viewers":false
    }
   }
  },
  {
   "cell_type":"code",
   "source":[
    "def solve_linear_system(matrix: np.ndarray, right_side: np.ndarray) -> np.ndarray:\n",
    "    alphas = []\n",
    "    betas = []\n",
    "\n",
    "    # Прямой ход: находим коэффициенты\n",
    "    for i in range(matrix.shape[0]):\n",
    "        y = matrix[i, i] if i == 0 else matrix[i, i] + matrix[i, i - 1] * alphas[i - 1]\n",
    "        alphas.append(0 if i == (matrix.shape[0] - 1) else -1 * matrix[i, i + 1] \/ y)\n",
    "        betas.append(right_side[i] \/ y if i == 0 else (right_side[i] - matrix[i, i - 1] * betas[i - 1]) \/ y)\n",
    "\n",
    "    # Обратный ход: находим x\n",
    "    reversed_solution = []\n",
    "    for i in reversed(range(matrix.shape[0])):\n",
    "        reversed_solution.append(\n",
    "            betas[i]\n",
    "            if i == (matrix.shape[0] - 1) else\n",
    "            alphas[i] * reversed_solution[matrix.shape[0] - i - 2] + betas[i]\n",
    "        )\n",
    "    return np.array(reversed_solution[::-1])"
   ],
   "execution_count":3,
   "outputs":[
    
   ],
   "metadata":{
    "datalore":{
     "type":"CODE",
     "hide_input_from_viewers":false,
     "hide_output_from_viewers":false
    }
   }
  },
  {
   "cell_type":"code",
   "source":[
    "def solve_heat_equation(\n",
    "        kappa: float,\n",
    "        f: Function2,\n",
    "        line_limit: float,\n",
    "        time_limit: float,\n",
    "        number_of_dimensional_layers: int,\n",
    "        number_of_time_layers: int,\n",
    "        init_condition: Function1,\n",
    "        left_condition: Function1,\n",
    "        right_condition: Function1,\n",
    "        sigma: float,\n",
    ") -> np.ndarray:\n",
    "    time_grid, tau = np.linspace(0, time_limit, number_of_time_layers, retstep=True)\n",
    "    dimensional_grid, h = np.linspace(0, line_limit, number_of_dimensional_layers, retstep=True)\n",
    "\n",
    "    heat_matrix = [\n",
    "        [init_condition(point) for point in dimensional_grid],\n",
    "    ]\n",
    "\n",
    "    for i, time in tqdm(enumerate(time_grid[1:]), desc=f'{number_of_dimensional_layers} -- {number_of_time_layers}'):\n",
    "        matrix = np.zeros((number_of_dimensional_layers, number_of_dimensional_layers))\n",
    "        right_side = np.empty(number_of_dimensional_layers)\n",
    "\n",
    "        matrix[0, 0] = 1\n",
    "        right_side[0] = left_condition(time)\n",
    "\n",
    "        for j, (left, middle, right) in enumerate(zip(heat_matrix[i], heat_matrix[i][1:], heat_matrix[i][2:]), start=1):\n",
    "            matrix[j, j - 1] = -1 * tau * kappa * sigma\n",
    "            matrix[j, j] = h ** 2 + 2 * tau * kappa * sigma\n",
    "            matrix[j, j + 1] = -1 * tau * kappa * sigma\n",
    "\n",
    "            right_side[j] = (\n",
    "                    h ** 2 * middle + (1 - sigma) * (left - 2 * middle + right) * kappa * tau\n",
    "                    + tau * h ** 2 * f(dimensional_grid[j], (time - tau) + sigma * tau)\n",
    "            )\n",
    "\n",
    "        matrix[number_of_dimensional_layers - 1, number_of_dimensional_layers - 1] = 1\n",
    "        right_side[number_of_dimensional_layers - 1] = right_condition(time)\n",
    "\n",
    "        heat_matrix.append(solve_linear_system(matrix, right_side))\n",
    "\n",
    "    return np.array(heat_matrix)"
   ],
   "execution_count":4,
   "outputs":[
    
   ],
   "metadata":{
    "datalore":{
     "type":"CODE",
     "hide_input_from_viewers":false,
     "hide_output_from_viewers":false
    }
   }
  },
  {
   "cell_type":"code",
   "source":[
    "def get_grid_by_solution(\n",
    "        solution: Function2,\n",
    "        line_limit: float,\n",
    "        time_limit: float,\n",
    "        number_of_dimensional_layers: int,\n",
    "        number_of_time_layers: int,\n",
    ") -> np.ndarray:\n",
    "    return np.array([\n",
    "        [true_solution(x, time) for x in np.linspace(0, line_limit, number_of_dimensional_layers)]\n",
    "        for time in np.linspace(0, time_limit, number_of_time_layers)\n",
    "    ])"
   ],
   "execution_count":5,
   "outputs":[
    
   ],
   "metadata":{
    "datalore":{
     "type":"CODE",
     "hide_input_from_viewers":false,
     "hide_output_from_viewers":false
    }
   }
  },
  {
   "cell_type":"code",
   "source":[
    "def _get_error(true_grid: np.ndarray, actual_grid: np.ndarray) -> Tuple[np.ndarray, Tuple[int, int]]:\n",
    "    error_grid = abs(true_grid - actual_grid)\n",
    "\n",
    "    return error_grid.max(), np.unravel_index(error_grid.argmax(), actual_grid.shape)\n",
    "\n",
    "\n",
    "def banchmark(\n",
    "        kappa: float,\n",
    "        f: Function2,\n",
    "        line_limit: float,\n",
    "        time_limit: float,\n",
    "        init_condition: Function1,\n",
    "        left_condition: Function1,\n",
    "        right_condition: Function1,\n",
    "        true_solution: Function2,\n",
    "        number_of_layers: int,\n",
    "        sigma: float,\n",
    ") -> float:\n",
    "    actual_grid = solve_heat_equation(\n",
    "        kappa=kappa,\n",
    "        f=f,\n",
    "        line_limit=line_limit,\n",
    "        time_limit=time_limit,\n",
    "        number_of_dimensional_layers=number_of_layers,\n",
    "        number_of_time_layers=number_of_layers,\n",
    "        init_condition=init_condition,\n",
    "        left_condition=left_condition,\n",
    "        right_condition=right_condition,\n",
    "        sigma=sigma\n",
    "    )\n",
    "\n",
    "    true_grid = get_grid_by_solution(true_solution, line_limit, time_limit, number_of_layers, number_of_layers)\n",
    "\n",
    "    return _get_error(true_grid, actual_grid)[0]"
   ],
   "execution_count":6,
   "outputs":[
    
   ],
   "metadata":{
    "datalore":{
     "type":"CODE",
     "hide_input_from_viewers":false,
     "hide_output_from_viewers":false
    }
   }
  },
  {
   "cell_type":"code",
   "source":[
    "def compare_error(data: pd.DataFrame) -> None:\n",
    "    fig = px.line(data, x='n', y='error', color='sigma')\n",
    "\n",
    "    fig.update_xaxes(title='Размерность сетки')\n",
    "    fig.update_yaxes(title='Ошибка', tickformat='.2e')\n",
    "    fig.update_layout(title='Зависимость ошибки от размера сетки')\n",
    "\n",
    "    fig.show()"
   ],
   "execution_count":7,
   "outputs":[
    
   ],
   "metadata":{
    "datalore":{
     "type":"CODE",
     "hide_input_from_viewers":false,
     "hide_output_from_viewers":false
    }
   }
  },
  {
   "cell_type":"code",
   "source":[
    "def show_heat_map(grid: np.ndarray) -> None:\n",
    "    fig = px.imshow(grid.T)\n",
    "\n",
    "    fig.update_xaxes(title='t')\n",
    "    fig.update_yaxes(title='x')\n",
    "    fig.update_layout(title='Карта распространения тепла')\n",
    "\n",
    "    fig.show()"
   ],
   "execution_count":8,
   "outputs":[
    
   ],
   "metadata":{
    "datalore":{
     "type":"CODE",
     "hide_input_from_viewers":false,
     "hide_output_from_viewers":false
    }
   }
  },
  {
   "cell_type":"code",
   "source":[
    "def compare_grids(\n",
    "        actual_grid: np.ndarray,\n",
    "        true_grid: np.ndarray,\n",
    "        line_limit: float,\n",
    "        time_limit: float,\n",
    ") -> None:\n",
    "    x = np.linspace(0, time_limit, actual_grid.shape[0])\n",
    "    y = np.linspace(0, line_limit, actual_grid.shape[1])\n",
    "\n",
    "    fig = go.Figure()\n",
    "\n",
    "    fig.add_surface(x=y, y=x, z=true_grid)\n",
    "\n",
    "    yv, xv = np.meshgrid(y, x)\n",
    "    fig.add_scatter3d(y=xv.flatten(), x=yv.flatten(), z=actual_grid.flatten(), marker=dict(size=2, color=\"blue\"), mode='markers')\n",
    "\n",
    "    fig.update_layout(\n",
    "        title='Сравнение истинного решения и найденной сетки',\n",
    "        scene_zaxis_title='Температура',\n",
    "        scene_yaxis_title='Время',\n",
    "        scene_xaxis_title='Координата стержня',\n",
    "        height=800,\n",
    "    )\n",
    "\n",
    "    fig.show()"
   ],
   "execution_count":9,
   "outputs":[
    
   ],
   "metadata":{
    "datalore":{
     "type":"CODE",
     "hide_input_from_viewers":false,
     "hide_output_from_viewers":false
    }
   }
  },
  {
   "cell_type":"code",
   "source":[
    "def check_steps(        \n",
    "        line_limit: float,\n",
    "        time_limit: float,\n",
    "        number_of_dimensional_layers: int,\n",
    "        number_of_time_layers: int,\n",
    "        kappa: float,\n",
    ") -> None:\n",
    "    h = line_limit \/ (number_of_dimensional_layers - 1)\n",
    "    tau = time_limit \/ (number_of_time_layers - 1)\n",
    "\n",
    "    print(f'h: {h}')\n",
    "    print(f'tau: {tau}\\n')\n",
    "\n",
    "    print(f'2 * kappa * tau: {2 * kappa * tau}')\n",
    "    print(f'h^2: {h ** 2}\\n')\n",
    "\n",
    "    if 2 * kappa * tau <= h ** 2:\n",
    "        print(f'Условие устойчивости выполняется!\\n')\n",
    "    else:\n",
    "        print(f'Условие устойчивости не выполняется!\\n')"
   ],
   "execution_count":10,
   "outputs":[
    
   ],
   "metadata":{
    "datalore":{
     "type":"CODE",
     "hide_input_from_viewers":false,
     "hide_output_from_viewers":false
    }
   }
  },
  {
   "cell_type":"code",
   "source":[
    "def show_error(true_grid: np.ndarray, actual_grid: np.ndarray,line_limit: float, time_limit: float) -> None:\n",
    "    error, index = _get_error(true_grid, actual_grid)\n",
    "\n",
    "    x = np.linspace(0, line_limit, actual_grid.shape[1])\n",
    "    y = np.linspace(0, time_limit, actual_grid.shape[0])\n",
    "\n",
    "    print(f'Error: {error}')\n",
    "    print(f'Bad point: ({index[1]}, {index[0]}) = ({x[index[1]]}, {y[index[0]]})\\n')"
   ],
   "execution_count":11,
   "outputs":[
    
   ],
   "metadata":{
    "datalore":{
     "type":"CODE",
     "hide_input_from_viewers":false,
     "hide_output_from_viewers":false
    }
   }
  },
  {
   "cell_type":"markdown",
   "source":[
    "# First"
   ],
   "attachments":{
    
   },
   "metadata":{
    "datalore":{
     "type":"MD",
     "hide_input_from_viewers":false,
     "hide_output_from_viewers":false,
     "sheet_delimiter":true
    }
   }
  },
  {
   "cell_type":"markdown",
   "source":[
    "$$u_t = u_{xx} + 2t + sin(x)$$\n",
    "$$u(x, 0) = sin(x)$$\n",
    "$$u(0, t) = t^2,\\ u\\left(\\frac{3\\pi}{2}, t\\right) = t^2 - 1$$\n",
    "$$x \\in \\left[0, \\frac{3\\pi}{2}\\right],\\ t \\in [0, 5]$$\n",
    "$$u_{\\text{true}} = sin(x) + t^2$$"
   ],
   "attachments":{
    
   },
   "metadata":{
    "datalore":{
     "type":"MD",
     "hide_input_from_viewers":false,
     "hide_output_from_viewers":false
    }
   }
  },
  {
   "cell_type":"code",
   "source":[
    "kappa = 1\n",
    "f = lambda x, t: 2 * t + sin(x)\n",
    "\n",
    "init_condition = lambda x: sin(x)\n",
    "left_condition = lambda t: t ** 2\n",
    "right_condition = lambda t: t ** 2 - 1\n",
    "\n",
    "line_limit = 3 * pi \/ 2\n",
    "time_limit = 5\n",
    "\n",
    "true_solution = lambda x, t: sin(x) + t ** 2"
   ],
   "execution_count":12,
   "outputs":[
    
   ],
   "metadata":{
    "datalore":{
     "type":"CODE",
     "hide_input_from_viewers":false,
     "hide_output_from_viewers":false
    }
   }
  },
  {
   "cell_type":"code",
   "source":[
    "# first_data = pd.DataFrame(product(range(50, 1000 + 1, 50), [1, 1 \/ 2]), columns=['n', 'sigma'])\n",
    "# first_data['error'] = first_data.apply(\n",
    "#     func=lambda row: banchmark(\n",
    "#         kappa,\n",
    "#         f,\n",
    "#         line_limit,\n",
    "#         time_limit,\n",
    "#         init_condition,\n",
    "#         left_condition,\n",
    "#         right_condition,\n",
    "#         true_solution,\n",
    "#         int(row.n),\n",
    "#         row.sigma,\n",
    "#     ),\n",
    "#     axis=1,\n",
    "# )\n",
    "# first_data.to_csv('first.csv', index=False)\n",
    "\n",
    "first_data = pd.read_csv('first.csv')\n",
    "first_data"
   ],
   "execution_count":13,
   "outputs":[
    {
     "data":{
      "text\/html":[
       "<div>\n",
       "<style scoped>\n",
       "    .dataframe tbody tr th:only-of-type {\n",
       "        vertical-align: middle;\n",
       "    }\n",
       "\n",
       "    .dataframe tbody tr th {\n",
       "        vertical-align: top;\n",
       "    }\n",
       "\n",
       "    .dataframe thead th {\n",
       "        text-align: right;\n",
       "    }\n",
       "<\/style>\n",
       "<table border=\"1\" class=\"dataframe\">\n",
       "  <thead>\n",
       "    <tr style=\"text-align: right;\">\n",
       "      <th><\/th>\n",
       "      <th>n<\/th>\n",
       "      <th>sigma<\/th>\n",
       "      <th>error<\/th>\n",
       "    <\/tr>\n",
       "  <\/thead>\n",
       "  <tbody>\n",
       "    <tr>\n",
       "      <th>0<\/th>\n",
       "      <td>50<\/td>\n",
       "      <td>1.0<\/td>\n",
       "      <td>0.250704<\/td>\n",
       "    <\/tr>\n",
       "    <tr>\n",
       "      <th>1<\/th>\n",
       "      <td>50<\/td>\n",
       "      <td>0.5<\/td>\n",
       "      <td>0.000957<\/td>\n",
       "    <\/tr>\n",
       "    <tr>\n",
       "      <th>2<\/th>\n",
       "      <td>100<\/td>\n",
       "      <td>1.0<\/td>\n",
       "      <td>0.124315<\/td>\n",
       "    <\/tr>\n",
       "    <tr>\n",
       "      <th>3<\/th>\n",
       "      <td>100<\/td>\n",
       "      <td>0.5<\/td>\n",
       "      <td>0.000234<\/td>\n",
       "    <\/tr>\n",
       "    <tr>\n",
       "      <th>4<\/th>\n",
       "      <td>150<\/td>\n",
       "      <td>1.0<\/td>\n",
       "      <td>0.082645<\/td>\n",
       "    <\/tr>\n",
       "    <tr>\n",
       "      <th>5<\/th>\n",
       "      <td>150<\/td>\n",
       "      <td>0.5<\/td>\n",
       "      <td>0.000103<\/td>\n",
       "    <\/tr>\n",
       "    <tr>\n",
       "      <th>6<\/th>\n",
       "      <td>200<\/td>\n",
       "      <td>1.0<\/td>\n",
       "      <td>0.061896<\/td>\n",
       "    <\/tr>\n",
       "    <tr>\n",
       "      <th>7<\/th>\n",
       "      <td>200<\/td>\n",
       "      <td>0.5<\/td>\n",
       "      <td>0.000058<\/td>\n",
       "    <\/tr>\n",
       "    <tr>\n",
       "      <th>8<\/th>\n",
       "      <td>250<\/td>\n",
       "      <td>1.0<\/td>\n",
       "      <td>0.049475<\/td>\n",
       "    <\/tr>\n",
       "    <tr>\n",
       "      <th>9<\/th>\n",
       "      <td>250<\/td>\n",
       "      <td>0.5<\/td>\n",
       "      <td>0.000037<\/td>\n",
       "    <\/tr>\n",
       "    <tr>\n",
       "      <th>10<\/th>\n",
       "      <td>300<\/td>\n",
       "      <td>1.0<\/td>\n",
       "      <td>0.041206<\/td>\n",
       "    <\/tr>\n",
       "    <tr>\n",
       "      <th>11<\/th>\n",
       "      <td>300<\/td>\n",
       "      <td>0.5<\/td>\n",
       "      <td>0.000026<\/td>\n",
       "    <\/tr>\n",
       "    <tr>\n",
       "      <th>12<\/th>\n",
       "      <td>350<\/td>\n",
       "      <td>1.0<\/td>\n",
       "      <td>0.035305<\/td>\n",
       "    <\/tr>\n",
       "    <tr>\n",
       "      <th>13<\/th>\n",
       "      <td>350<\/td>\n",
       "      <td>0.5<\/td>\n",
       "      <td>0.000019<\/td>\n",
       "    <\/tr>\n",
       "    <tr>\n",
       "      <th>14<\/th>\n",
       "      <td>400<\/td>\n",
       "      <td>1.0<\/td>\n",
       "      <td>0.030883<\/td>\n",
       "    <\/tr>\n",
       "    <tr>\n",
       "      <th>15<\/th>\n",
       "      <td>400<\/td>\n",
       "      <td>0.5<\/td>\n",
       "      <td>0.000014<\/td>\n",
       "    <\/tr>\n",
       "    <tr>\n",
       "      <th>16<\/th>\n",
       "      <td>450<\/td>\n",
       "      <td>1.0<\/td>\n",
       "      <td>0.027445<\/td>\n",
       "    <\/tr>\n",
       "    <tr>\n",
       "      <th>17<\/th>\n",
       "      <td>450<\/td>\n",
       "      <td>0.5<\/td>\n",
       "      <td>0.000011<\/td>\n",
       "    <\/tr>\n",
       "    <tr>\n",
       "      <th>18<\/th>\n",
       "      <td>500<\/td>\n",
       "      <td>1.0<\/td>\n",
       "      <td>0.024696<\/td>\n",
       "    <\/tr>\n",
       "    <tr>\n",
       "      <th>19<\/th>\n",
       "      <td>500<\/td>\n",
       "      <td>0.5<\/td>\n",
       "      <td>0.000009<\/td>\n",
       "    <\/tr>\n",
       "    <tr>\n",
       "      <th>20<\/th>\n",
       "      <td>550<\/td>\n",
       "      <td>1.0<\/td>\n",
       "      <td>0.022447<\/td>\n",
       "    <\/tr>\n",
       "    <tr>\n",
       "      <th>21<\/th>\n",
       "      <td>550<\/td>\n",
       "      <td>0.5<\/td>\n",
       "      <td>0.000008<\/td>\n",
       "    <\/tr>\n",
       "    <tr>\n",
       "      <th>22<\/th>\n",
       "      <td>600<\/td>\n",
       "      <td>1.0<\/td>\n",
       "      <td>0.020574<\/td>\n",
       "    <\/tr>\n",
       "    <tr>\n",
       "      <th>23<\/th>\n",
       "      <td>600<\/td>\n",
       "      <td>0.5<\/td>\n",
       "      <td>0.000006<\/td>\n",
       "    <\/tr>\n",
       "    <tr>\n",
       "      <th>24<\/th>\n",
       "      <td>650<\/td>\n",
       "      <td>1.0<\/td>\n",
       "      <td>0.018989<\/td>\n",
       "    <\/tr>\n",
       "    <tr>\n",
       "      <th>25<\/th>\n",
       "      <td>650<\/td>\n",
       "      <td>0.5<\/td>\n",
       "      <td>0.000005<\/td>\n",
       "    <\/tr>\n",
       "    <tr>\n",
       "      <th>26<\/th>\n",
       "      <td>700<\/td>\n",
       "      <td>1.0<\/td>\n",
       "      <td>0.017631<\/td>\n",
       "    <\/tr>\n",
       "    <tr>\n",
       "      <th>27<\/th>\n",
       "      <td>700<\/td>\n",
       "      <td>0.5<\/td>\n",
       "      <td>0.000005<\/td>\n",
       "    <\/tr>\n",
       "    <tr>\n",
       "      <th>28<\/th>\n",
       "      <td>750<\/td>\n",
       "      <td>1.0<\/td>\n",
       "      <td>0.016454<\/td>\n",
       "    <\/tr>\n",
       "    <tr>\n",
       "      <th>29<\/th>\n",
       "      <td>750<\/td>\n",
       "      <td>0.5<\/td>\n",
       "      <td>0.000004<\/td>\n",
       "    <\/tr>\n",
       "    <tr>\n",
       "      <th>30<\/th>\n",
       "      <td>800<\/td>\n",
       "      <td>1.0<\/td>\n",
       "      <td>0.015425<\/td>\n",
       "    <\/tr>\n",
       "    <tr>\n",
       "      <th>31<\/th>\n",
       "      <td>800<\/td>\n",
       "      <td>0.5<\/td>\n",
       "      <td>0.000004<\/td>\n",
       "    <\/tr>\n",
       "    <tr>\n",
       "      <th>32<\/th>\n",
       "      <td>850<\/td>\n",
       "      <td>1.0<\/td>\n",
       "      <td>0.014517<\/td>\n",
       "    <\/tr>\n",
       "    <tr>\n",
       "      <th>33<\/th>\n",
       "      <td>850<\/td>\n",
       "      <td>0.5<\/td>\n",
       "      <td>0.000003<\/td>\n",
       "    <\/tr>\n",
       "    <tr>\n",
       "      <th>34<\/th>\n",
       "      <td>900<\/td>\n",
       "      <td>1.0<\/td>\n",
       "      <td>0.013709<\/td>\n",
       "    <\/tr>\n",
       "    <tr>\n",
       "      <th>35<\/th>\n",
       "      <td>900<\/td>\n",
       "      <td>0.5<\/td>\n",
       "      <td>0.000003<\/td>\n",
       "    <\/tr>\n",
       "    <tr>\n",
       "      <th>36<\/th>\n",
       "      <td>950<\/td>\n",
       "      <td>1.0<\/td>\n",
       "      <td>0.012987<\/td>\n",
       "    <\/tr>\n",
       "    <tr>\n",
       "      <th>37<\/th>\n",
       "      <td>950<\/td>\n",
       "      <td>0.5<\/td>\n",
       "      <td>0.000003<\/td>\n",
       "    <\/tr>\n",
       "    <tr>\n",
       "      <th>38<\/th>\n",
       "      <td>1000<\/td>\n",
       "      <td>1.0<\/td>\n",
       "      <td>0.012337<\/td>\n",
       "    <\/tr>\n",
       "    <tr>\n",
       "      <th>39<\/th>\n",
       "      <td>1000<\/td>\n",
       "      <td>0.5<\/td>\n",
       "      <td>0.000002<\/td>\n",
       "    <\/tr>\n",
       "  <\/tbody>\n",
       "<\/table>\n",
       "<\/div>"
      ]
     },
     "metadata":{
      
     },
     "output_type":"display_data"
    }
   ],
   "metadata":{
    "datalore":{
     "type":"CODE",
     "hide_input_from_viewers":false,
     "hide_output_from_viewers":false
    }
   }
  },
  {
   "cell_type":"code",
   "source":[
    "compare_error(first_data)"
   ],
   "execution_count":14,
   "outputs":[
    {
     "data":{
      "text\/plain":[
       "Unsupported"
      ]
     },
     "metadata":{
      
     },
     "output_type":"display_data"
    }
   ],
   "metadata":{
    "datalore":{
     "type":"CODE",
     "hide_input_from_viewers":false,
     "hide_output_from_viewers":false
    }
   }
  },
  {
   "cell_type":"code",
   "source":[
    "number_of_dimensional_layers = 50\n",
    "number_of_time_layers = 50\n",
    "sigma = 1\n",
    "\n",
    "true_grid = get_grid_by_solution(true_solution, line_limit, time_limit, number_of_dimensional_layers, number_of_time_layers)\n",
    "\n",
    "actual_grid = solve_heat_equation(\n",
    "    kappa=kappa, \n",
    "    f=f, \n",
    "    line_limit=line_limit, \n",
    "    time_limit=time_limit, \n",
    "    number_of_dimensional_layers=number_of_dimensional_layers, \n",
    "    number_of_time_layers=number_of_time_layers, \n",
    "    init_condition=init_condition, \n",
    "    left_condition=left_condition, \n",
    "    right_condition=right_condition, \n",
    "    sigma=sigma,\n",
    ")\n",
    "\n",
    "show_error(true_grid, actual_grid, line_limit, time_limit)\n",
    "show_heat_map(actual_grid)\n",
    "compare_grids(actual_grid, true_grid, line_limit, time_limit)"
   ],
   "execution_count":15,
   "outputs":[
    {
     "name":"stdout",
     "text":[
      "Error: 0.2507035236028905\n",
      "Bad point: (24, 49) = (2.3081088883516845, 5.0)\n",
      "\n"
     ],
     "output_type":"stream"
    },
    {
     "data":{
      "text\/plain":[
       "Unsupported"
      ]
     },
     "metadata":{
      
     },
     "output_type":"display_data"
    }
   ],
   "metadata":{
    "datalore":{
     "type":"CODE",
     "hide_input_from_viewers":false,
     "hide_output_from_viewers":false
    }
   }
  },
  {
   "cell_type":"code",
   "source":[
    "number_of_dimensional_layers = 30\n",
    "number_of_time_layers = 380\n",
    "sigma = 0\n",
    "\n",
    "true_grid = get_grid_by_solution(true_solution, line_limit, time_limit, number_of_dimensional_layers, number_of_time_layers)\n",
    "\n",
    "actual_grid = solve_heat_equation(\n",
    "    kappa=kappa, \n",
    "    f=f, \n",
    "    line_limit=line_limit, \n",
    "    time_limit=time_limit, \n",
    "    number_of_dimensional_layers=number_of_dimensional_layers, \n",
    "    number_of_time_layers=number_of_time_layers, \n",
    "    init_condition=init_condition, \n",
    "    left_condition=left_condition, \n",
    "    right_condition=right_condition, \n",
    "    sigma=sigma,\n",
    ")\n",
    "\n",
    "show_error(true_grid, actual_grid, line_limit, time_limit)\n",
    "check_steps(line_limit, time_limit, number_of_dimensional_layers, number_of_time_layers, kappa)\n",
    "show_heat_map(actual_grid)\n",
    "compare_grids(actual_grid, true_grid, line_limit, time_limit)"
   ],
   "execution_count":16,
   "outputs":[
    {
     "name":"stdout",
     "text":[
      "Error: 0.030210924375438708\n",
      "Bad point: (15, 379) = (2.4374425760610468, 5.0)\n",
      "\n",
      "h: 0.1624961717374031\n",
      "tau: 0.013192612137203167\n",
      "\n",
      "2 * kappa * tau: 0.026385224274406333\n",
      "h^2: 0.026405005829311604\n",
      "\n",
      "Условие устойчивости выполняется!\n",
      "\n"
     ],
     "output_type":"stream"
    },
    {
     "data":{
      "text\/plain":[
       "Unsupported"
      ]
     },
     "metadata":{
      
     },
     "output_type":"display_data"
    }
   ],
   "metadata":{
    "datalore":{
     "type":"CODE",
     "hide_input_from_viewers":false,
     "hide_output_from_viewers":false
    }
   }
  },
  {
   "cell_type":"code",
   "source":[
    "number_of_dimensional_layers = 30\n",
    "number_of_time_layers = 369  # -11\n",
    "sigma = 0\n",
    "\n",
    "true_grid = get_grid_by_solution(true_solution, line_limit, time_limit, number_of_dimensional_layers, number_of_time_layers)\n",
    "\n",
    "actual_grid = solve_heat_equation(\n",
    "    kappa=kappa,\n",
    "    f=f,\n",
    "    line_limit=line_limit,\n",
    "    time_limit=time_limit,\n",
    "    number_of_dimensional_layers=number_of_dimensional_layers,\n",
    "    number_of_time_layers=number_of_time_layers,\n",
    "    init_condition=init_condition,\n",
    "    left_condition=left_condition,\n",
    "    right_condition=right_condition,\n",
    "    sigma=sigma,\n",
    ")\n",
    "\n",
    "show_error(true_grid, actual_grid, line_limit, time_limit)\n",
    "check_steps(line_limit, time_limit, number_of_dimensional_layers, number_of_time_layers, kappa)\n",
    "show_heat_map(actual_grid)\n",
    "compare_grids(actual_grid, true_grid, line_limit, time_limit)"
   ],
   "execution_count":17,
   "outputs":[
    {
     "name":"stdout",
     "text":[
      "Error: 3.767078225657496\n",
      "Bad point: (15, 368) = (2.4374425760610468, 5.0)\n",
      "\n",
      "h: 0.1624961717374031\n",
      "tau: 0.01358695652173913\n",
      "\n",
      "2 * kappa * tau: 0.02717391304347826\n",
      "h^2: 0.026405005829311604\n",
      "\n",
      "Условие устойчивости не выполняется!\n",
      "\n"
     ],
     "output_type":"stream"
    },
    {
     "data":{
      "text\/plain":[
       "Unsupported"
      ]
     },
     "metadata":{
      
     },
     "output_type":"display_data"
    }
   ],
   "metadata":{
    "datalore":{
     "type":"CODE",
     "hide_input_from_viewers":false,
     "hide_output_from_viewers":false
    }
   }
  },
  {
   "cell_type":"markdown",
   "source":[
    "# Second"
   ],
   "attachments":{
    
   },
   "metadata":{
    "datalore":{
     "type":"MD",
     "hide_input_from_viewers":false,
     "hide_output_from_viewers":false,
     "sheet_delimiter":true
    }
   }
  },
  {
   "cell_type":"markdown",
   "source":[
    "$$u_t = 2u_{xx} + \\left( \\frac{1}{t + 1} - 2e^x \\right)$$\n",
    "$$u(x, 0) = e^x$$\n",
    "$$u(0, t) = 1 + ln(t + 1),\\ u(ln(3), t) = 3 + ln(t + 1)$$\n",
    "$$x \\in [0, ln(3)],\\ t \\in [0, 1]$$\n",
    "$$u_{true} = e^x + ln(t + 1)$$"
   ],
   "attachments":{
    
   },
   "metadata":{
    "datalore":{
     "type":"MD",
     "hide_input_from_viewers":false,
     "hide_output_from_viewers":false
    }
   }
  },
  {
   "cell_type":"code",
   "source":[
    "kappa = 2\n",
    "f = lambda x, t: 1 \/ (t + 1) - 2 * e ** x\n",
    "\n",
    "init_condition = lambda x: e ** x\n",
    "left_condition = lambda t: log(t + 1) + 1\n",
    "right_condition = lambda t: 3 + log(t + 1)\n",
    "\n",
    "line_limit = log(3)\n",
    "time_limit = 1\n",
    "\n",
    "true_solution = lambda x, t: e ** x + log(t + 1)"
   ],
   "execution_count":18,
   "outputs":[
    
   ],
   "metadata":{
    "datalore":{
     "type":"CODE",
     "hide_input_from_viewers":false,
     "hide_output_from_viewers":false
    }
   }
  },
  {
   "cell_type":"code",
   "source":[
    "# second_data = pd.DataFrame(product(range(50, 1000 + 1, 50), [1, 1 \/ 2]), columns=['n', 'sigma'])\n",
    "# second_data['error'] = second_data.apply(\n",
    "#     func=lambda row: banchmark(\n",
    "#         kappa,\n",
    "#         f,\n",
    "#         line_limit,\n",
    "#         time_limit,\n",
    "#         init_condition,\n",
    "#         left_condition,\n",
    "#         right_condition,\n",
    "#         true_solution,\n",
    "#         int(row.n),\n",
    "#         row.sigma,\n",
    "#     ),\n",
    "#     axis=1,\n",
    "# )\n",
    "# second_data.to_csv('second.csv', index=False)\n",
    "\n",
    "second_data = pd.read_csv('second.csv')\n",
    "second_data"
   ],
   "execution_count":19,
   "outputs":[
    {
     "data":{
      "text\/html":[
       "<div>\n",
       "<style scoped>\n",
       "    .dataframe tbody tr th:only-of-type {\n",
       "        vertical-align: middle;\n",
       "    }\n",
       "\n",
       "    .dataframe tbody tr th {\n",
       "        vertical-align: top;\n",
       "    }\n",
       "\n",
       "    .dataframe thead th {\n",
       "        text-align: right;\n",
       "    }\n",
       "<\/style>\n",
       "<table border=\"1\" class=\"dataframe\">\n",
       "  <thead>\n",
       "    <tr style=\"text-align: right;\">\n",
       "      <th><\/th>\n",
       "      <th>n<\/th>\n",
       "      <th>sigma<\/th>\n",
       "      <th>error<\/th>\n",
       "    <\/tr>\n",
       "  <\/thead>\n",
       "  <tbody>\n",
       "    <tr>\n",
       "      <th>0<\/th>\n",
       "      <td>50<\/td>\n",
       "      <td>1.0<\/td>\n",
       "      <td>5.503425e-04<\/td>\n",
       "    <\/tr>\n",
       "    <tr>\n",
       "      <th>1<\/th>\n",
       "      <td>50<\/td>\n",
       "      <td>0.5<\/td>\n",
       "      <td>1.095700e-05<\/td>\n",
       "    <\/tr>\n",
       "    <tr>\n",
       "      <th>2<\/th>\n",
       "      <td>100<\/td>\n",
       "      <td>1.0<\/td>\n",
       "      <td>2.796694e-04<\/td>\n",
       "    <\/tr>\n",
       "    <tr>\n",
       "      <th>3<\/th>\n",
       "      <td>100<\/td>\n",
       "      <td>0.5<\/td>\n",
       "      <td>2.684406e-06<\/td>\n",
       "    <\/tr>\n",
       "    <tr>\n",
       "      <th>4<\/th>\n",
       "      <td>150<\/td>\n",
       "      <td>1.0<\/td>\n",
       "      <td>1.874436e-04<\/td>\n",
       "    <\/tr>\n",
       "    <tr>\n",
       "      <th>5<\/th>\n",
       "      <td>150<\/td>\n",
       "      <td>0.5<\/td>\n",
       "      <td>1.185039e-06<\/td>\n",
       "    <\/tr>\n",
       "    <tr>\n",
       "      <th>6<\/th>\n",
       "      <td>200<\/td>\n",
       "      <td>1.0<\/td>\n",
       "      <td>1.409679e-04<\/td>\n",
       "    <\/tr>\n",
       "    <tr>\n",
       "      <th>7<\/th>\n",
       "      <td>200<\/td>\n",
       "      <td>0.5<\/td>\n",
       "      <td>6.643783e-07<\/td>\n",
       "    <\/tr>\n",
       "    <tr>\n",
       "      <th>8<\/th>\n",
       "      <td>250<\/td>\n",
       "      <td>1.0<\/td>\n",
       "      <td>1.129657e-04<\/td>\n",
       "    <\/tr>\n",
       "    <tr>\n",
       "      <th>9<\/th>\n",
       "      <td>250<\/td>\n",
       "      <td>0.5<\/td>\n",
       "      <td>4.243499e-07<\/td>\n",
       "    <\/tr>\n",
       "    <tr>\n",
       "      <th>10<\/th>\n",
       "      <td>300<\/td>\n",
       "      <td>1.0<\/td>\n",
       "      <td>9.424098e-05<\/td>\n",
       "    <\/tr>\n",
       "    <tr>\n",
       "      <th>11<\/th>\n",
       "      <td>300<\/td>\n",
       "      <td>0.5<\/td>\n",
       "      <td>2.942912e-07<\/td>\n",
       "    <\/tr>\n",
       "    <tr>\n",
       "      <th>12<\/th>\n",
       "      <td>350<\/td>\n",
       "      <td>1.0<\/td>\n",
       "      <td>8.084111e-05<\/td>\n",
       "    <\/tr>\n",
       "    <tr>\n",
       "      <th>13<\/th>\n",
       "      <td>350<\/td>\n",
       "      <td>0.5<\/td>\n",
       "      <td>2.160091e-07<\/td>\n",
       "    <\/tr>\n",
       "    <tr>\n",
       "      <th>14<\/th>\n",
       "      <td>400<\/td>\n",
       "      <td>1.0<\/td>\n",
       "      <td>7.077933e-05<\/td>\n",
       "    <\/tr>\n",
       "    <tr>\n",
       "      <th>15<\/th>\n",
       "      <td>400<\/td>\n",
       "      <td>0.5<\/td>\n",
       "      <td>1.652595e-07<\/td>\n",
       "    <\/tr>\n",
       "    <tr>\n",
       "      <th>16<\/th>\n",
       "      <td>450<\/td>\n",
       "      <td>1.0<\/td>\n",
       "      <td>6.294391e-05<\/td>\n",
       "    <\/tr>\n",
       "    <tr>\n",
       "      <th>17<\/th>\n",
       "      <td>450<\/td>\n",
       "      <td>0.5<\/td>\n",
       "      <td>1.305088e-07<\/td>\n",
       "    <\/tr>\n",
       "    <tr>\n",
       "      <th>18<\/th>\n",
       "      <td>500<\/td>\n",
       "      <td>1.0<\/td>\n",
       "      <td>5.667008e-05<\/td>\n",
       "    <\/tr>\n",
       "    <tr>\n",
       "      <th>19<\/th>\n",
       "      <td>500<\/td>\n",
       "      <td>0.5<\/td>\n",
       "      <td>1.056672e-07<\/td>\n",
       "    <\/tr>\n",
       "    <tr>\n",
       "      <th>20<\/th>\n",
       "      <td>550<\/td>\n",
       "      <td>1.0<\/td>\n",
       "      <td>5.153444e-05<\/td>\n",
       "    <\/tr>\n",
       "    <tr>\n",
       "      <th>21<\/th>\n",
       "      <td>550<\/td>\n",
       "      <td>0.5<\/td>\n",
       "      <td>8.729743e-08<\/td>\n",
       "    <\/tr>\n",
       "    <tr>\n",
       "      <th>22<\/th>\n",
       "      <td>600<\/td>\n",
       "      <td>1.0<\/td>\n",
       "      <td>4.725184e-05<\/td>\n",
       "    <\/tr>\n",
       "    <tr>\n",
       "      <th>23<\/th>\n",
       "      <td>600<\/td>\n",
       "      <td>0.5<\/td>\n",
       "      <td>7.332730e-08<\/td>\n",
       "    <\/tr>\n",
       "    <tr>\n",
       "      <th>24<\/th>\n",
       "      <td>650<\/td>\n",
       "      <td>1.0<\/td>\n",
       "      <td>4.362615e-05<\/td>\n",
       "    <\/tr>\n",
       "    <tr>\n",
       "      <th>25<\/th>\n",
       "      <td>650<\/td>\n",
       "      <td>0.5<\/td>\n",
       "      <td>6.245522e-08<\/td>\n",
       "    <\/tr>\n",
       "    <tr>\n",
       "      <th>26<\/th>\n",
       "      <td>700<\/td>\n",
       "      <td>1.0<\/td>\n",
       "      <td>4.051774e-05<\/td>\n",
       "    <\/tr>\n",
       "    <tr>\n",
       "      <th>27<\/th>\n",
       "      <td>700<\/td>\n",
       "      <td>0.5<\/td>\n",
       "      <td>5.383579e-08<\/td>\n",
       "    <\/tr>\n",
       "    <tr>\n",
       "      <th>28<\/th>\n",
       "      <td>750<\/td>\n",
       "      <td>1.0<\/td>\n",
       "      <td>3.782260e-05<\/td>\n",
       "    <\/tr>\n",
       "    <tr>\n",
       "      <th>29<\/th>\n",
       "      <td>750<\/td>\n",
       "      <td>0.5<\/td>\n",
       "      <td>4.688274e-08<\/td>\n",
       "    <\/tr>\n",
       "    <tr>\n",
       "      <th>30<\/th>\n",
       "      <td>800<\/td>\n",
       "      <td>1.0<\/td>\n",
       "      <td>3.546346e-05<\/td>\n",
       "    <\/tr>\n",
       "    <tr>\n",
       "      <th>31<\/th>\n",
       "      <td>800<\/td>\n",
       "      <td>0.5<\/td>\n",
       "      <td>4.119093e-08<\/td>\n",
       "    <\/tr>\n",
       "    <tr>\n",
       "      <th>32<\/th>\n",
       "      <td>850<\/td>\n",
       "      <td>1.0<\/td>\n",
       "      <td>3.338162e-05<\/td>\n",
       "    <\/tr>\n",
       "    <tr>\n",
       "      <th>33<\/th>\n",
       "      <td>850<\/td>\n",
       "      <td>0.5<\/td>\n",
       "      <td>3.649074e-08<\/td>\n",
       "    <\/tr>\n",
       "    <tr>\n",
       "      <th>34<\/th>\n",
       "      <td>900<\/td>\n",
       "      <td>1.0<\/td>\n",
       "      <td>3.153059e-05<\/td>\n",
       "    <\/tr>\n",
       "    <tr>\n",
       "      <th>35<\/th>\n",
       "      <td>900<\/td>\n",
       "      <td>0.5<\/td>\n",
       "      <td>3.254280e-08<\/td>\n",
       "    <\/tr>\n",
       "    <tr>\n",
       "      <th>36<\/th>\n",
       "      <td>950<\/td>\n",
       "      <td>1.0<\/td>\n",
       "      <td>2.987393e-05<\/td>\n",
       "    <\/tr>\n",
       "    <tr>\n",
       "      <th>37<\/th>\n",
       "      <td>950<\/td>\n",
       "      <td>0.5<\/td>\n",
       "      <td>2.918973e-08<\/td>\n",
       "    <\/tr>\n",
       "    <tr>\n",
       "      <th>38<\/th>\n",
       "      <td>1000<\/td>\n",
       "      <td>1.0<\/td>\n",
       "      <td>2.838283e-05<\/td>\n",
       "    <\/tr>\n",
       "    <tr>\n",
       "      <th>39<\/th>\n",
       "      <td>1000<\/td>\n",
       "      <td>0.5<\/td>\n",
       "      <td>2.631738e-08<\/td>\n",
       "    <\/tr>\n",
       "  <\/tbody>\n",
       "<\/table>\n",
       "<\/div>"
      ]
     },
     "metadata":{
      
     },
     "output_type":"display_data"
    }
   ],
   "metadata":{
    "datalore":{
     "type":"CODE",
     "hide_input_from_viewers":false,
     "hide_output_from_viewers":false
    }
   }
  },
  {
   "cell_type":"code",
   "source":[
    "compare_error(second_data)"
   ],
   "execution_count":20,
   "outputs":[
    {
     "data":{
      "text\/plain":[
       "Unsupported"
      ]
     },
     "metadata":{
      
     },
     "output_type":"display_data"
    }
   ],
   "metadata":{
    "datalore":{
     "type":"CODE",
     "hide_input_from_viewers":false,
     "hide_output_from_viewers":false
    }
   }
  },
  {
   "cell_type":"code",
   "source":[
    "number_of_dimensional_layers = 50\n",
    "number_of_time_layers = 50\n",
    "sigma = 1\n",
    "\n",
    "true_grid = get_grid_by_solution(true_solution, line_limit, time_limit, number_of_dimensional_layers, number_of_time_layers)\n",
    "\n",
    "actual_grid = solve_heat_equation(\n",
    "    kappa=kappa, \n",
    "    f=f, \n",
    "    line_limit=line_limit, \n",
    "    time_limit=time_limit, \n",
    "    number_of_dimensional_layers=number_of_dimensional_layers, \n",
    "    number_of_time_layers=number_of_time_layers, \n",
    "    init_condition=init_condition, \n",
    "    left_condition=left_condition, \n",
    "    right_condition=right_condition, \n",
    "    sigma=sigma,\n",
    ")\n",
    "\n",
    "show_error(true_grid, actual_grid, line_limit, time_limit)\n",
    "show_heat_map(actual_grid)\n",
    "compare_grids(actual_grid, true_grid, line_limit, time_limit)"
   ],
   "execution_count":21,
   "outputs":[
    {
     "name":"stdout",
     "text":[
      "Error: 0.0005503425228050585\n",
      "Bad point: (24, 8) = (0.5380958148578496, 0.16326530612244897)\n",
      "\n"
     ],
     "output_type":"stream"
    },
    {
     "data":{
      "text\/plain":[
       "Unsupported"
      ]
     },
     "metadata":{
      
     },
     "output_type":"display_data"
    }
   ],
   "metadata":{
    "datalore":{
     "type":"CODE",
     "hide_input_from_viewers":false,
     "hide_output_from_viewers":false
    }
   }
  },
  {
   "cell_type":"code",
   "source":[
    "number_of_dimensional_layers = 10\n",
    "number_of_time_layers = 270\n",
    "sigma = 0\n",
    "\n",
    "true_grid = get_grid_by_solution(true_solution, line_limit, time_limit, number_of_dimensional_layers, number_of_time_layers)\n",
    "\n",
    "actual_grid = solve_heat_equation(\n",
    "    kappa=kappa, \n",
    "    f=f, \n",
    "    line_limit=line_limit, \n",
    "    time_limit=time_limit, \n",
    "    number_of_dimensional_layers=number_of_dimensional_layers, \n",
    "    number_of_time_layers=number_of_time_layers, \n",
    "    init_condition=init_condition, \n",
    "    left_condition=left_condition, \n",
    "    right_condition=right_condition, \n",
    "    sigma=sigma,\n",
    ")\n",
    "\n",
    "show_error(true_grid, actual_grid, line_limit, time_limit)\n",
    "check_steps(line_limit, time_limit, number_of_dimensional_layers, number_of_time_layers, kappa)\n",
    "show_heat_map(actual_grid)\n",
    "compare_grids(actual_grid, true_grid, line_limit, time_limit)"
   ],
   "execution_count":22,
   "outputs":[
    {
     "name":"stdout",
     "text":[
      "Error: 0.0004267628598313422\n",
      "Bad point: (5, 62) = (0.6103401603711721, 0.23048327137546468)\n",
      "\n",
      "h: 0.12206803207423442\n",
      "tau: 0.0037174721189591076\n",
      "\n",
      "2 * kappa * tau: 0.01486988847583643\n",
      "h^2: 0.014900604454476322\n",
      "\n",
      "Условие устойчивости выполняется!\n",
      "\n"
     ],
     "output_type":"stream"
    },
    {
     "data":{
      "text\/plain":[
       "Unsupported"
      ]
     },
     "metadata":{
      
     },
     "output_type":"display_data"
    }
   ],
   "metadata":{
    "datalore":{
     "type":"CODE",
     "hide_input_from_viewers":false,
     "hide_output_from_viewers":false
    }
   }
  },
  {
   "cell_type":"code",
   "source":[
    "number_of_dimensional_layers = 10\n",
    "number_of_time_layers = 253 # -17\n",
    "sigma = 0\n",
    "\n",
    "true_grid = get_grid_by_solution(true_solution, line_limit, time_limit, number_of_dimensional_layers, number_of_time_layers)\n",
    "\n",
    "actual_grid = solve_heat_equation(\n",
    "    kappa=kappa, \n",
    "    f=f, \n",
    "    line_limit=line_limit, \n",
    "    time_limit=time_limit, \n",
    "    number_of_dimensional_layers=number_of_dimensional_layers, \n",
    "    number_of_time_layers=number_of_time_layers, \n",
    "    init_condition=init_condition, \n",
    "    left_condition=left_condition, \n",
    "    right_condition=right_condition, \n",
    "    sigma=sigma,\n",
    ")\n",
    "\n",
    "show_error(true_grid, actual_grid, line_limit, time_limit)\n",
    "check_steps(line_limit, time_limit, number_of_dimensional_layers, number_of_time_layers, kappa)\n",
    "show_heat_map(actual_grid)\n",
    "compare_grids(actual_grid, true_grid, line_limit, time_limit)"
   ],
   "execution_count":23,
   "outputs":[
    {
     "name":"stdout",
     "text":[
      "Error: 1.9354122182350708\n",
      "Bad point: (5, 252) = (0.6103401603711721, 1.0)\n",
      "\n",
      "h: 0.12206803207423442\n",
      "tau: 0.003968253968253968\n",
      "\n",
      "2 * kappa * tau: 0.015873015873015872\n",
      "h^2: 0.014900604454476322\n",
      "\n",
      "Условие устойчивости не выполняется!\n",
      "\n"
     ],
     "output_type":"stream"
    },
    {
     "data":{
      "text\/plain":[
       "Unsupported"
      ]
     },
     "metadata":{
      
     },
     "output_type":"display_data"
    }
   ],
   "metadata":{
    "datalore":{
     "type":"CODE",
     "hide_input_from_viewers":false,
     "hide_output_from_viewers":false
    }
   }
  }
 ],
 "metadata":{
  "datalore":{
   "version":1,
   "computation_mode":"JUPYTER",
   "package_manager":"pip",
   "base_environment":"default",
   "packages":[
    
   ]
  }
 },
 "nbformat":4,
 "nbformat_minor":4
}