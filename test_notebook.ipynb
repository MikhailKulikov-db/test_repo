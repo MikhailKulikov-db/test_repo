{
 "cells":[
  {
   "cell_type":"markdown",
   "source":[
    "# Utils"
   ],
   "attachments":{
    
   },
   "metadata":{
    "datalore":{
     "type":"MD",
     "hide_input_from_viewers":false,
     "hide_output_from_viewers":false,
     "sheet_delimiter":true
    }
   }
  },
  {
   "cell_type":"code",
   "source":[
    "from itertools import product\n",
    "from typing import Tuple, Callable\n",
    "\n",
    "import numpy as np\n",
    "import numpy.linalg as linalg\n",
    "import pandas as pd\n",
    "import plotly.graph_objects as go"
   ],
   "execution_count":30,
   "outputs":[
    
   ],
   "metadata":{
    "datalore":{
     "type":"CODE",
     "hide_input_from_viewers":false,
     "hide_output_from_viewers":false
    }
   }
  },
  {
   "cell_type":"code",
   "source":[
    "def calculate_spectral_condition_number(matrix: np.ndarray) -> float:\n",
    "    return linalg.cond(matrix)\n",
    "\n",
    "\n",
    "def calculate_volume_condition_number(matrix: np.ndarray) -> float:\n",
    "    volume_0 = abs(linalg.det(matrix))  # Объём косоугольного параллелепипеда\n",
    "\n",
    "    volume = 1  # Объём прямоугольного параллелепипеда\n",
    "    for row in matrix:\n",
    "        volume *= linalg.norm(row)\n",
    "\n",
    "    return volume \/ volume_0\n",
    "\n",
    "\n",
    "def calculate_angle_condition_number(matrix: np.ndarray) -> float:\n",
    "    inverse_matrix = linalg.inv(matrix)\n",
    "\n",
    "    candidates = []\n",
    "    for row, column in zip(matrix, inverse_matrix.T):\n",
    "        candidates.append(linalg.norm(row) * linalg.norm(column))\n",
    "\n",
    "    return max(candidates)"
   ],
   "execution_count":31,
   "outputs":[
    
   ],
   "metadata":{
    "datalore":{
     "type":"CODE",
     "hide_input_from_viewers":false,
     "hide_output_from_viewers":false
    }
   }
  },
  {
   "cell_type":"code",
   "source":[
    "def banchmark_linear_system(matrix: np.ndarray, right_part: np.ndarray, bias: float) -> pd.Series:\n",
    "    true_solution = linalg.solve(matrix, right_part)\n",
    "\n",
    "    spectral_condition_number = calculate_spectral_condition_number(matrix)\n",
    "    volume_condition_number = calculate_volume_condition_number(matrix)\n",
    "    angle_condition_number = calculate_angle_condition_number(matrix)\n",
    "\n",
    "    perturbed_matrix = matrix - bias\n",
    "    perturbed_right_part = right_part - bias\n",
    "\n",
    "    perturbed_matrix_solution = linalg.solve(perturbed_matrix, right_part)\n",
    "    perturbed_right_part_solution = linalg.solve(matrix, perturbed_right_part)\n",
    "    perturbed_linear_system_solution = linalg.solve(perturbed_matrix, perturbed_right_part)\n",
    "\n",
    "    return pd.Series(\n",
    "        [\n",
    "            spectral_condition_number,\n",
    "            volume_condition_number,\n",
    "            angle_condition_number,\n",
    "            linalg.norm(perturbed_matrix_solution - true_solution),\n",
    "            linalg.norm(perturbed_right_part_solution - true_solution),\n",
    "            linalg.norm(perturbed_linear_system_solution - true_solution),\n",
    "        ]\n",
    "    )"
   ],
   "execution_count":32,
   "outputs":[
    
   ],
   "metadata":{
    "datalore":{
     "type":"CODE",
     "hide_input_from_viewers":false,
     "hide_output_from_viewers":false
    }
   }
  },
  {
   "cell_type":"code",
   "source":[
    "def compare_size_and_cond(data: pd.DataFrame) -> None:\n",
    "    fig = go.Figure()\n",
    "\n",
    "    data = data[['n', 'cond_s', 'cond_v', 'cond_a']].drop_duplicates()\n",
    "\n",
    "    fig.add_scatter(\n",
    "        x=data['n'], \n",
    "        y=data['cond_s'],\n",
    "        name='Спектральный критерий',\n",
    "    )\n",
    "\n",
    "    fig.add_scatter(\n",
    "        x=data['n'], \n",
    "        y=data['cond_v'],\n",
    "        name='Объёмный критерий',\n",
    "    )\n",
    "\n",
    "    fig.add_scatter(\n",
    "        x=data['n'], \n",
    "        y=data['cond_a'],\n",
    "        name='Угловой критерий',\n",
    "    )\n",
    "\n",
    "    fig.update_xaxes(title='Размер матрицы')\n",
    "    fig.update_yaxes(title='Число обусловленности', tickformat='.2e')\n",
    "    fig.update_layout(title='Зависимость числа обусловленности от размера матрицы')\n",
    "\n",
    "    fig.show()"
   ],
   "execution_count":33,
   "outputs":[
    
   ],
   "metadata":{
    "datalore":{
     "type":"CODE",
     "hide_input_from_viewers":false,
     "hide_output_from_viewers":false
    }
   }
  },
  {
   "cell_type":"code",
   "source":[
    "def compare_cond_and_error(data: pd.DataFrame, bias: float = 1e-6, error_name: str = 'error_matrix') -> None:\n",
    "    fig = go.Figure()\n",
    "\n",
    "    fig.add_scatter(\n",
    "        x=data[data['bias'] == bias]['cond_s'],\n",
    "        y=data[data['bias'] == bias][error_name],\n",
    "        name='Спектральный критерий',\n",
    "        mode='markers',\n",
    "    )\n",
    "\n",
    "    fig.add_scatter(\n",
    "        x=data[data['bias'] == bias]['cond_v'],\n",
    "        y=data[data['bias'] == bias][error_name],\n",
    "        name='Объёмный критерий',\n",
    "        mode='markers',\n",
    "    )\n",
    "\n",
    "    fig.add_scatter(\n",
    "        x=data[data['bias'] == bias]['cond_a'],\n",
    "        y=data[data['bias'] == bias][error_name],\n",
    "        name='Угловой критерий',\n",
    "        mode='markers',\n",
    "    )\n",
    "\n",
    "    fig.update_xaxes(title='Число обусловленности', tickformat='.2e')\n",
    "    fig.update_yaxes(title='Ошибка', tickformat='.2e')\n",
    "    fig.update_layout(title=f'Зависимость ошибки от числа обусловленности ({bias = :.0e}, {error_name = })')\n",
    "\n",
    "    fig.show()"
   ],
   "execution_count":34,
   "outputs":[
    
   ],
   "metadata":{
    "datalore":{
     "type":"CODE",
     "hide_input_from_viewers":false,
     "hide_output_from_viewers":false
    }
   }
  },
  {
   "cell_type":"code",
   "source":[
    "def compare_size_and_error(data: pd.DataFrame, *, bias: float = 1e-6) -> None:\n",
    "    fig = go.Figure()\n",
    "\n",
    "    fig.add_scatter(\n",
    "        x=data[data['bias'] == bias]['n'],\n",
    "        y=data[data['bias'] == bias]['error_matrix'],\n",
    "        name='Матрица',\n",
    "    )\n",
    "\n",
    "    fig.add_scatter(\n",
    "        x=data[data['bias'] == bias]['n'],\n",
    "        y=data[data['bias'] == bias]['error_right'],\n",
    "        name='Правая часть',\n",
    "    )\n",
    "\n",
    "    fig.add_scatter(\n",
    "        x=data[data['bias'] == bias]['n'],\n",
    "        y=data[data['bias'] == bias]['error_system'],\n",
    "        name='Вся система',\n",
    "    )\n",
    "\n",
    "    fig.update_xaxes(title='Размер матрицы')\n",
    "    fig.update_yaxes(title='Ошибка', tickformat='.2e')\n",
    "    fig.update_layout(title=f'Зависимость ошибки от размера матрицы ({bias = :.0e})')\n",
    "\n",
    "    fig.show()"
   ],
   "execution_count":35,
   "outputs":[
    
   ],
   "metadata":{
    "datalore":{
     "type":"CODE",
     "hide_input_from_viewers":false,
     "hide_output_from_viewers":false
    }
   }
  },
  {
   "cell_type":"code",
   "source":[
    "def compare_bias_and_error(data: pd.DataFrame, n: int) -> None:\n",
    "    fig = go.Figure()\n",
    "\n",
    "    fig.add_scatter(\n",
    "        x=data[data['n'] == n]['bias'],\n",
    "        y=data[data['n'] == n]['error_matrix'],\n",
    "        name='Матрица',\n",
    "    )\n",
    "\n",
    "    fig.add_scatter(\n",
    "        x=data[data['n'] == n]['bias'],\n",
    "        y=data[data['n'] == n]['error_right'],\n",
    "        name='Правая часть',\n",
    "    )\n",
    "\n",
    "    fig.add_scatter(\n",
    "        x=data[data['n'] == n]['bias'],\n",
    "        y=data[data['n'] == n]['error_system'],\n",
    "        name='Вся система',\n",
    "    )\n",
    "\n",
    "    fig.update_xaxes(title='bias', type='log', tickformat='.0e')\n",
    "    fig.update_yaxes(title='Ошибка', tickformat='.2e')\n",
    "    fig.update_layout(title=f'Зависимость ошибки от bias ({n = })')\n",
    "\n",
    "    fig.show()"
   ],
   "execution_count":36,
   "outputs":[
    
   ],
   "metadata":{
    "datalore":{
     "type":"CODE",
     "hide_input_from_viewers":false,
     "hide_output_from_viewers":false
    }
   }
  },
  {
   "cell_type":"code",
   "source":[
    "def generate_matrix(element_factory: Callable[[int, int], float], size: int) -> np.ndarray:\n",
    "    return np.array(\n",
    "        [\n",
    "            [element_factory(row, column) for column in range(1, size + 1)]\n",
    "            for row in range(1, size + 1)\n",
    "        ]\n",
    "    )"
   ],
   "execution_count":37,
   "outputs":[
    
   ],
   "metadata":{
    "datalore":{
     "type":"CODE",
     "hide_input_from_viewers":false,
     "hide_output_from_viewers":false
    }
   }
  },
  {
   "cell_type":"markdown",
   "source":[
    "# Diagonal (Bad for spectral)"
   ],
   "attachments":{
    
   },
   "metadata":{
    "datalore":{
     "type":"MD",
     "hide_input_from_viewers":false,
     "hide_output_from_viewers":false,
     "sheet_delimiter":true
    }
   }
  },
  {
   "cell_type":"code",
   "source":[
    "def get_spectral_bad_linear_system(size: int) -> Tuple[np.ndarray, np.ndarray]:\n",
    "    matrix = np.eye(size)\n",
    "    matrix[0][0] = 10 ** size\n",
    "\n",
    "    right_part = np.dot(matrix, np.ones(size))\n",
    "\n",
    "    return matrix, right_part"
   ],
   "execution_count":38,
   "outputs":[
    
   ],
   "metadata":{
    "datalore":{
     "type":"CODE",
     "hide_input_from_viewers":false,
     "hide_output_from_viewers":false
    }
   }
  },
  {
   "cell_type":"code",
   "source":[
    "spectral_bad_data = pd.DataFrame(product(range(2, 11), [10 ** -i for i in range(2, 11)]), columns=['n', 'bias'])\n",
    "spectral_bad_data[['cond_s', 'cond_v', 'cond_a', 'error_matrix', 'error_right', 'error_system']] = spectral_bad_data.apply(\n",
    "    func=lambda row: banchmark_linear_system(*get_spectral_bad_linear_system(int(row.n)), row.bias),\n",
    "    axis=1,\n",
    ")\n",
    "spectral_bad_data"
   ],
   "execution_count":39,
   "outputs":[
    {
     "data":{
      "text\/html":[
       "<div>\n",
       "<style scoped>\n",
       "    .dataframe tbody tr th:only-of-type {\n",
       "        vertical-align: middle;\n",
       "    }\n",
       "\n",
       "    .dataframe tbody tr th {\n",
       "        vertical-align: top;\n",
       "    }\n",
       "\n",
       "    .dataframe thead th {\n",
       "        text-align: right;\n",
       "    }\n",
       "<\/style>\n",
       "<table border=\"1\" class=\"dataframe\">\n",
       "  <thead>\n",
       "    <tr style=\"text-align: right;\">\n",
       "      <th><\/th>\n",
       "      <th>n<\/th>\n",
       "      <th>bias<\/th>\n",
       "      <th>cond_s<\/th>\n",
       "      <th>cond_v<\/th>\n",
       "      <th>cond_a<\/th>\n",
       "      <th>error_matrix<\/th>\n",
       "      <th>error_right<\/th>\n",
       "      <th>error_system<\/th>\n",
       "    <\/tr>\n",
       "  <\/thead>\n",
       "  <tbody>\n",
       "    <tr>\n",
       "      <th>0<\/th>\n",
       "      <td>2<\/td>\n",
       "      <td>1.000000e-02<\/td>\n",
       "      <td>1.000000e+02<\/td>\n",
       "      <td>1.0<\/td>\n",
       "      <td>1.0<\/td>\n",
       "      <td>2.020507e-02<\/td>\n",
       "      <td>1.000050e-02<\/td>\n",
       "      <td>1.010254e-02<\/td>\n",
       "    <\/tr>\n",
       "    <tr>\n",
       "      <th>1<\/th>\n",
       "      <td>2<\/td>\n",
       "      <td>1.000000e-03<\/td>\n",
       "      <td>1.000000e+02<\/td>\n",
       "      <td>1.0<\/td>\n",
       "      <td>1.0<\/td>\n",
       "      <td>2.002122e-03<\/td>\n",
       "      <td>1.000050e-03<\/td>\n",
       "      <td>1.001061e-03<\/td>\n",
       "    <\/tr>\n",
       "    <tr>\n",
       "      <th>2<\/th>\n",
       "      <td>2<\/td>\n",
       "      <td>1.000000e-04<\/td>\n",
       "      <td>1.000000e+02<\/td>\n",
       "      <td>1.0<\/td>\n",
       "      <td>1.0<\/td>\n",
       "      <td>2.000302e-04<\/td>\n",
       "      <td>1.000050e-04<\/td>\n",
       "      <td>1.000151e-04<\/td>\n",
       "    <\/tr>\n",
       "    <tr>\n",
       "      <th>3<\/th>\n",
       "      <td>2<\/td>\n",
       "      <td>1.000000e-05<\/td>\n",
       "      <td>1.000000e+02<\/td>\n",
       "      <td>1.0<\/td>\n",
       "      <td>1.0<\/td>\n",
       "      <td>2.000120e-05<\/td>\n",
       "      <td>1.000050e-05<\/td>\n",
       "      <td>1.000060e-05<\/td>\n",
       "    <\/tr>\n",
       "    <tr>\n",
       "      <th>4<\/th>\n",
       "      <td>2<\/td>\n",
       "      <td>1.000000e-06<\/td>\n",
       "      <td>1.000000e+02<\/td>\n",
       "      <td>1.0<\/td>\n",
       "      <td>1.0<\/td>\n",
       "      <td>2.000102e-06<\/td>\n",
       "      <td>1.000050e-06<\/td>\n",
       "      <td>1.000051e-06<\/td>\n",
       "    <\/tr>\n",
       "    <tr>\n",
       "      <th>...<\/th>\n",
       "      <td>...<\/td>\n",
       "      <td>...<\/td>\n",
       "      <td>...<\/td>\n",
       "      <td>...<\/td>\n",
       "      <td>...<\/td>\n",
       "      <td>...<\/td>\n",
       "      <td>...<\/td>\n",
       "      <td>...<\/td>\n",
       "    <\/tr>\n",
       "    <tr>\n",
       "      <th>76<\/th>\n",
       "      <td>10<\/td>\n",
       "      <td>1.000000e-06<\/td>\n",
       "      <td>1.000000e+10<\/td>\n",
       "      <td>1.0<\/td>\n",
       "      <td>1.0<\/td>\n",
       "      <td>3.000027e-05<\/td>\n",
       "      <td>3.000000e-06<\/td>\n",
       "      <td>2.700024e-05<\/td>\n",
       "    <\/tr>\n",
       "    <tr>\n",
       "      <th>77<\/th>\n",
       "      <td>10<\/td>\n",
       "      <td>1.000000e-07<\/td>\n",
       "      <td>1.000000e+10<\/td>\n",
       "      <td>1.0<\/td>\n",
       "      <td>1.0<\/td>\n",
       "      <td>3.000003e-06<\/td>\n",
       "      <td>3.000000e-07<\/td>\n",
       "      <td>2.700002e-06<\/td>\n",
       "    <\/tr>\n",
       "    <tr>\n",
       "      <th>78<\/th>\n",
       "      <td>10<\/td>\n",
       "      <td>1.000000e-08<\/td>\n",
       "      <td>1.000000e+10<\/td>\n",
       "      <td>1.0<\/td>\n",
       "      <td>1.0<\/td>\n",
       "      <td>3.000000e-07<\/td>\n",
       "      <td>3.000000e-08<\/td>\n",
       "      <td>2.700000e-07<\/td>\n",
       "    <\/tr>\n",
       "    <tr>\n",
       "      <th>79<\/th>\n",
       "      <td>10<\/td>\n",
       "      <td>1.000000e-09<\/td>\n",
       "      <td>1.000000e+10<\/td>\n",
       "      <td>1.0<\/td>\n",
       "      <td>1.0<\/td>\n",
       "      <td>3.000000e-08<\/td>\n",
       "      <td>3.000000e-09<\/td>\n",
       "      <td>2.700000e-08<\/td>\n",
       "    <\/tr>\n",
       "    <tr>\n",
       "      <th>80<\/th>\n",
       "      <td>10<\/td>\n",
       "      <td>1.000000e-10<\/td>\n",
       "      <td>1.000000e+10<\/td>\n",
       "      <td>1.0<\/td>\n",
       "      <td>1.0<\/td>\n",
       "      <td>3.000000e-09<\/td>\n",
       "      <td>3.000000e-10<\/td>\n",
       "      <td>2.700000e-09<\/td>\n",
       "    <\/tr>\n",
       "  <\/tbody>\n",
       "<\/table>\n",
       "<p>81 rows × 8 columns<\/p>\n",
       "<\/div>"
      ]
     },
     "metadata":{
      
     },
     "output_type":"display_data"
    }
   ],
   "metadata":{
    "datalore":{
     "type":"CODE",
     "hide_input_from_viewers":false,
     "hide_output_from_viewers":false
    }
   }
  },
  {
   "cell_type":"code",
   "source":[
    "compare_size_and_cond(spectral_bad_data)"
   ],
   "execution_count":40,
   "outputs":[
    {
     "data":{
      "text\/plain":[
       "Unsupported"
      ]
     },
     "metadata":{
      
     },
     "output_type":"display_data"
    }
   ],
   "metadata":{
    "datalore":{
     "type":"CODE",
     "hide_input_from_viewers":false,
     "hide_output_from_viewers":false
    }
   }
  },
  {
   "cell_type":"code",
   "source":[
    "compare_cond_and_error(spectral_bad_data, bias=1e-2)\n",
    "compare_cond_and_error(spectral_bad_data, bias=1e-6)\n",
    "compare_cond_and_error(spectral_bad_data, bias=1e-10)"
   ],
   "execution_count":41,
   "outputs":[
    {
     "data":{
      "text\/plain":[
       "Unsupported"
      ]
     },
     "metadata":{
      
     },
     "output_type":"display_data"
    }
   ],
   "metadata":{
    "datalore":{
     "type":"CODE",
     "hide_input_from_viewers":false,
     "hide_output_from_viewers":false
    }
   }
  },
  {
   "cell_type":"code",
   "source":[
    "compare_size_and_error(spectral_bad_data, bias=1e-2)\n",
    "compare_size_and_error(spectral_bad_data, bias=1e-6)\n",
    "compare_size_and_error(spectral_bad_data, bias=1e-10)"
   ],
   "execution_count":42,
   "outputs":[
    {
     "data":{
      "text\/plain":[
       "Unsupported"
      ]
     },
     "metadata":{
      
     },
     "output_type":"display_data"
    }
   ],
   "metadata":{
    "datalore":{
     "type":"CODE",
     "hide_input_from_viewers":false,
     "hide_output_from_viewers":false
    }
   }
  },
  {
   "cell_type":"code",
   "source":[
    "compare_bias_and_error(spectral_bad_data, 2)\n",
    "compare_bias_and_error(spectral_bad_data, 6)\n",
    "compare_bias_and_error(spectral_bad_data, 10)"
   ],
   "execution_count":43,
   "outputs":[
    {
     "data":{
      "text\/plain":[
       "Unsupported"
      ]
     },
     "metadata":{
      
     },
     "output_type":"display_data"
    }
   ],
   "metadata":{
    "datalore":{
     "type":"CODE",
     "hide_input_from_viewers":false,
     "hide_output_from_viewers":false
    }
   }
  },
  {
   "cell_type":"markdown",
   "source":[
    "# Diagonally dominant (Bad for volume)"
   ],
   "attachments":{
    
   },
   "metadata":{
    "datalore":{
     "type":"MD",
     "hide_input_from_viewers":false,
     "hide_output_from_viewers":false,
     "sheet_delimiter":true
    }
   }
  },
  {
   "cell_type":"code",
   "source":[
    "def get_volume_bad_linear_system(size: int) -> Tuple[np.ndarray, np.ndarray]:\n",
    "    matrix = np.eye(size) * 2 + np.eye(size, k=-1) * -1 + np.eye(size, k=1) * -1\n",
    "    \n",
    "    right_part = np.dot(matrix, np.ones(size))\n",
    "\n",
    "    return matrix, right_part"
   ],
   "execution_count":44,
   "outputs":[
    
   ],
   "metadata":{
    "datalore":{
     "type":"CODE",
     "hide_input_from_viewers":false,
     "hide_output_from_viewers":false
    }
   }
  },
  {
   "cell_type":"code",
   "source":[
    "volume_bad_data = pd.DataFrame(product(range(2, 11), [10 ** -i for i in range(2, 11)]), columns=['n', 'bias'])\n",
    "volume_bad_data[['cond_s', 'cond_v', 'cond_a', 'error_matrix', 'error_right', 'error_system']] = volume_bad_data.apply(\n",
    "    func=lambda row: banchmark_linear_system(*get_volume_bad_linear_system(int(row.n)), row.bias),\n",
    "    axis=1,\n",
    ")\n",
    "volume_bad_data"
   ],
   "execution_count":45,
   "outputs":[
    {
     "data":{
      "text\/html":[
       "<div>\n",
       "<style scoped>\n",
       "    .dataframe tbody tr th:only-of-type {\n",
       "        vertical-align: middle;\n",
       "    }\n",
       "\n",
       "    .dataframe tbody tr th {\n",
       "        vertical-align: top;\n",
       "    }\n",
       "\n",
       "    .dataframe thead th {\n",
       "        text-align: right;\n",
       "    }\n",
       "<\/style>\n",
       "<table border=\"1\" class=\"dataframe\">\n",
       "  <thead>\n",
       "    <tr style=\"text-align: right;\">\n",
       "      <th><\/th>\n",
       "      <th>n<\/th>\n",
       "      <th>bias<\/th>\n",
       "      <th>cond_s<\/th>\n",
       "      <th>cond_v<\/th>\n",
       "      <th>cond_a<\/th>\n",
       "      <th>error_matrix<\/th>\n",
       "      <th>error_right<\/th>\n",
       "      <th>error_system<\/th>\n",
       "    <\/tr>\n",
       "  <\/thead>\n",
       "  <tbody>\n",
       "    <tr>\n",
       "      <th>0<\/th>\n",
       "      <td>2<\/td>\n",
       "      <td>1.000000e-02<\/td>\n",
       "      <td>3.00000<\/td>\n",
       "      <td>1.666667<\/td>\n",
       "      <td>1.666667<\/td>\n",
       "      <td>2.886150e-02<\/td>\n",
       "      <td>1.414214e-02<\/td>\n",
       "      <td>1.443075e-02<\/td>\n",
       "    <\/tr>\n",
       "    <tr>\n",
       "      <th>1<\/th>\n",
       "      <td>2<\/td>\n",
       "      <td>1.000000e-03<\/td>\n",
       "      <td>3.00000<\/td>\n",
       "      <td>1.666667<\/td>\n",
       "      <td>1.666667<\/td>\n",
       "      <td>2.834095e-03<\/td>\n",
       "      <td>1.414214e-03<\/td>\n",
       "      <td>1.417048e-03<\/td>\n",
       "    <\/tr>\n",
       "    <tr>\n",
       "      <th>2<\/th>\n",
       "      <td>2<\/td>\n",
       "      <td>1.000000e-04<\/td>\n",
       "      <td>3.00000<\/td>\n",
       "      <td>1.666667<\/td>\n",
       "      <td>1.666667<\/td>\n",
       "      <td>2.828993e-04<\/td>\n",
       "      <td>1.414214e-04<\/td>\n",
       "      <td>1.414496e-04<\/td>\n",
       "    <\/tr>\n",
       "    <tr>\n",
       "      <th>3<\/th>\n",
       "      <td>2<\/td>\n",
       "      <td>1.000000e-05<\/td>\n",
       "      <td>3.00000<\/td>\n",
       "      <td>1.666667<\/td>\n",
       "      <td>1.666667<\/td>\n",
       "      <td>2.828484e-05<\/td>\n",
       "      <td>1.414214e-05<\/td>\n",
       "      <td>1.414242e-05<\/td>\n",
       "    <\/tr>\n",
       "    <tr>\n",
       "      <th>4<\/th>\n",
       "      <td>2<\/td>\n",
       "      <td>1.000000e-06<\/td>\n",
       "      <td>3.00000<\/td>\n",
       "      <td>1.666667<\/td>\n",
       "      <td>1.666667<\/td>\n",
       "      <td>2.828433e-06<\/td>\n",
       "      <td>1.414214e-06<\/td>\n",
       "      <td>1.414216e-06<\/td>\n",
       "    <\/tr>\n",
       "    <tr>\n",
       "      <th>...<\/th>\n",
       "      <td>...<\/td>\n",
       "      <td>...<\/td>\n",
       "      <td>...<\/td>\n",
       "      <td>...<\/td>\n",
       "      <td>...<\/td>\n",
       "      <td>...<\/td>\n",
       "      <td>...<\/td>\n",
       "      <td>...<\/td>\n",
       "    <\/tr>\n",
       "    <tr>\n",
       "      <th>76<\/th>\n",
       "      <td>10<\/td>\n",
       "      <td>1.000000e-06<\/td>\n",
       "      <td>48.37415<\/td>\n",
       "      <td>589.090909<\/td>\n",
       "      <td>12.898203<\/td>\n",
       "      <td>3.663735e-04<\/td>\n",
       "      <td>3.663332e-05<\/td>\n",
       "      <td>3.297361e-04<\/td>\n",
       "    <\/tr>\n",
       "    <tr>\n",
       "      <th>77<\/th>\n",
       "      <td>10<\/td>\n",
       "      <td>1.000000e-07<\/td>\n",
       "      <td>48.37415<\/td>\n",
       "      <td>589.090909<\/td>\n",
       "      <td>12.898203<\/td>\n",
       "      <td>3.663372e-05<\/td>\n",
       "      <td>3.663332e-06<\/td>\n",
       "      <td>3.297035e-05<\/td>\n",
       "    <\/tr>\n",
       "    <tr>\n",
       "      <th>78<\/th>\n",
       "      <td>10<\/td>\n",
       "      <td>1.000000e-08<\/td>\n",
       "      <td>48.37415<\/td>\n",
       "      <td>589.090909<\/td>\n",
       "      <td>12.898203<\/td>\n",
       "      <td>3.663336e-06<\/td>\n",
       "      <td>3.663332e-07<\/td>\n",
       "      <td>3.297002e-06<\/td>\n",
       "    <\/tr>\n",
       "    <tr>\n",
       "      <th>79<\/th>\n",
       "      <td>10<\/td>\n",
       "      <td>1.000000e-09<\/td>\n",
       "      <td>48.37415<\/td>\n",
       "      <td>589.090909<\/td>\n",
       "      <td>12.898203<\/td>\n",
       "      <td>3.663332e-07<\/td>\n",
       "      <td>3.663332e-08<\/td>\n",
       "      <td>3.296999e-07<\/td>\n",
       "    <\/tr>\n",
       "    <tr>\n",
       "      <th>80<\/th>\n",
       "      <td>10<\/td>\n",
       "      <td>1.000000e-10<\/td>\n",
       "      <td>48.37415<\/td>\n",
       "      <td>589.090909<\/td>\n",
       "      <td>12.898203<\/td>\n",
       "      <td>3.663332e-08<\/td>\n",
       "      <td>3.663332e-09<\/td>\n",
       "      <td>3.296999e-08<\/td>\n",
       "    <\/tr>\n",
       "  <\/tbody>\n",
       "<\/table>\n",
       "<p>81 rows × 8 columns<\/p>\n",
       "<\/div>"
      ]
     },
     "metadata":{
      
     },
     "output_type":"display_data"
    }
   ],
   "metadata":{
    "datalore":{
     "type":"CODE",
     "hide_input_from_viewers":false,
     "hide_output_from_viewers":false
    }
   }
  },
  {
   "cell_type":"code",
   "source":[
    "compare_size_and_cond(volume_bad_data)"
   ],
   "execution_count":46,
   "outputs":[
    {
     "data":{
      "text\/plain":[
       "Unsupported"
      ]
     },
     "metadata":{
      
     },
     "output_type":"display_data"
    }
   ],
   "metadata":{
    "datalore":{
     "type":"CODE",
     "hide_input_from_viewers":false,
     "hide_output_from_viewers":false
    }
   }
  },
  {
   "cell_type":"code",
   "source":[
    "compare_cond_and_error(volume_bad_data, bias=1e-2)\n",
    "compare_cond_and_error(volume_bad_data, bias=1e-6)\n",
    "compare_cond_and_error(volume_bad_data, bias=1e-10)"
   ],
   "execution_count":47,
   "outputs":[
    {
     "data":{
      "text\/plain":[
       "Unsupported"
      ]
     },
     "metadata":{
      
     },
     "output_type":"display_data"
    }
   ],
   "metadata":{
    "datalore":{
     "type":"CODE",
     "hide_input_from_viewers":false,
     "hide_output_from_viewers":false
    }
   }
  },
  {
   "cell_type":"code",
   "source":[
    "compare_size_and_error(volume_bad_data, bias=1e-2)\n",
    "compare_size_and_error(volume_bad_data, bias=1e-6)\n",
    "compare_size_and_error(volume_bad_data, bias=1e-10)"
   ],
   "execution_count":48,
   "outputs":[
    {
     "data":{
      "text\/plain":[
       "Unsupported"
      ]
     },
     "metadata":{
      
     },
     "output_type":"display_data"
    }
   ],
   "metadata":{
    "datalore":{
     "type":"CODE",
     "hide_input_from_viewers":false,
     "hide_output_from_viewers":false
    }
   }
  },
  {
   "cell_type":"code",
   "source":[
    "compare_bias_and_error(volume_bad_data, n=2)\n",
    "compare_bias_and_error(volume_bad_data, n=6)\n",
    "compare_bias_and_error(volume_bad_data, n=10)"
   ],
   "execution_count":49,
   "outputs":[
    {
     "data":{
      "text\/plain":[
       "Unsupported"
      ]
     },
     "metadata":{
      
     },
     "output_type":"display_data"
    }
   ],
   "metadata":{
    "datalore":{
     "type":"CODE",
     "hide_input_from_viewers":false,
     "hide_output_from_viewers":false
    }
   }
  },
  {
   "cell_type":"markdown",
   "source":[
    "# Hilbert"
   ],
   "attachments":{
    
   },
   "metadata":{
    "datalore":{
     "type":"MD",
     "hide_input_from_viewers":false,
     "hide_output_from_viewers":false,
     "sheet_delimiter":true
    }
   }
  },
  {
   "cell_type":"code",
   "source":[
    "def get_hilbert_linear_system(size: int) -> Tuple[np.ndarray, np.ndarray]:\n",
    "    matrix = np.around(generate_matrix(lambda row, column: 1 \/ (row + column -1), size), 10)\n",
    "    \n",
    "    right_part = np.dot(matrix, np.ones(size))\n",
    "\n",
    "    return matrix, right_part"
   ],
   "execution_count":50,
   "outputs":[
    
   ],
   "metadata":{
    "datalore":{
     "type":"CODE",
     "hide_input_from_viewers":false,
     "hide_output_from_viewers":false
    }
   }
  },
  {
   "cell_type":"code",
   "source":[
    "hilbert_data = pd.DataFrame(product(range(2, 11), [10 ** -i for i in range(2, 11)]), columns=['n', 'bias'])\n",
    "hilbert_data[['cond_s', 'cond_v', 'cond_a', 'error_matrix', 'error_right', 'error_system']] = hilbert_data.apply(\n",
    "    func=lambda row: banchmark_linear_system(*get_hilbert_linear_system(int(row.n)), row.bias),\n",
    "    axis=1,\n",
    ")\n",
    "hilbert_data"
   ],
   "execution_count":51,
   "outputs":[
    {
     "data":{
      "text\/html":[
       "<div>\n",
       "<style scoped>\n",
       "    .dataframe tbody tr th:only-of-type {\n",
       "        vertical-align: middle;\n",
       "    }\n",
       "\n",
       "    .dataframe tbody tr th {\n",
       "        vertical-align: top;\n",
       "    }\n",
       "\n",
       "    .dataframe thead th {\n",
       "        text-align: right;\n",
       "    }\n",
       "<\/style>\n",
       "<table border=\"1\" class=\"dataframe\">\n",
       "  <thead>\n",
       "    <tr style=\"text-align: right;\">\n",
       "      <th><\/th>\n",
       "      <th>n<\/th>\n",
       "      <th>bias<\/th>\n",
       "      <th>cond_s<\/th>\n",
       "      <th>cond_v<\/th>\n",
       "      <th>cond_a<\/th>\n",
       "      <th>error_matrix<\/th>\n",
       "      <th>error_right<\/th>\n",
       "      <th>error_system<\/th>\n",
       "    <\/tr>\n",
       "  <\/thead>\n",
       "  <tbody>\n",
       "    <tr>\n",
       "      <th>0<\/th>\n",
       "      <td>2<\/td>\n",
       "      <td>1.000000e-02<\/td>\n",
       "      <td>1.928147e+01<\/td>\n",
       "      <td>8.062258e+00<\/td>\n",
       "      <td>8.062258e+00<\/td>\n",
       "      <td>0.131762<\/td>\n",
       "      <td>0.063246<\/td>\n",
       "      <td>0.065881<\/td>\n",
       "    <\/tr>\n",
       "    <tr>\n",
       "      <th>1<\/th>\n",
       "      <td>2<\/td>\n",
       "      <td>1.000000e-03<\/td>\n",
       "      <td>1.928147e+01<\/td>\n",
       "      <td>8.062258e+00<\/td>\n",
       "      <td>8.062258e+00<\/td>\n",
       "      <td>0.012700<\/td>\n",
       "      <td>0.006325<\/td>\n",
       "      <td>0.006350<\/td>\n",
       "    <\/tr>\n",
       "    <tr>\n",
       "      <th>2<\/th>\n",
       "      <td>2<\/td>\n",
       "      <td>1.000000e-04<\/td>\n",
       "      <td>1.928147e+01<\/td>\n",
       "      <td>8.062258e+00<\/td>\n",
       "      <td>8.062258e+00<\/td>\n",
       "      <td>0.001265<\/td>\n",
       "      <td>0.000632<\/td>\n",
       "      <td>0.000633<\/td>\n",
       "    <\/tr>\n",
       "    <tr>\n",
       "      <th>3<\/th>\n",
       "      <td>2<\/td>\n",
       "      <td>1.000000e-05<\/td>\n",
       "      <td>1.928147e+01<\/td>\n",
       "      <td>8.062258e+00<\/td>\n",
       "      <td>8.062258e+00<\/td>\n",
       "      <td>0.000126<\/td>\n",
       "      <td>0.000063<\/td>\n",
       "      <td>0.000063<\/td>\n",
       "    <\/tr>\n",
       "    <tr>\n",
       "      <th>4<\/th>\n",
       "      <td>2<\/td>\n",
       "      <td>1.000000e-06<\/td>\n",
       "      <td>1.928147e+01<\/td>\n",
       "      <td>8.062258e+00<\/td>\n",
       "      <td>8.062258e+00<\/td>\n",
       "      <td>0.000013<\/td>\n",
       "      <td>0.000006<\/td>\n",
       "      <td>0.000006<\/td>\n",
       "    <\/tr>\n",
       "    <tr>\n",
       "      <th>...<\/th>\n",
       "      <td>...<\/td>\n",
       "      <td>...<\/td>\n",
       "      <td>...<\/td>\n",
       "      <td>...<\/td>\n",
       "      <td>...<\/td>\n",
       "      <td>...<\/td>\n",
       "      <td>...<\/td>\n",
       "      <td>...<\/td>\n",
       "    <\/tr>\n",
       "    <tr>\n",
       "      <th>76<\/th>\n",
       "      <td>10<\/td>\n",
       "      <td>1.000000e-06<\/td>\n",
       "      <td>1.029944e+11<\/td>\n",
       "      <td>2.224547e+46<\/td>\n",
       "      <td>1.250090e+10<\/td>\n",
       "      <td>11.603248<\/td>\n",
       "      <td>1.160268<\/td>\n",
       "      <td>10.442918<\/td>\n",
       "    <\/tr>\n",
       "    <tr>\n",
       "      <th>77<\/th>\n",
       "      <td>10<\/td>\n",
       "      <td>1.000000e-07<\/td>\n",
       "      <td>1.029944e+11<\/td>\n",
       "      <td>2.224547e+46<\/td>\n",
       "      <td>1.250090e+10<\/td>\n",
       "      <td>1.160272<\/td>\n",
       "      <td>0.116020<\/td>\n",
       "      <td>1.044246<\/td>\n",
       "    <\/tr>\n",
       "    <tr>\n",
       "      <th>78<\/th>\n",
       "      <td>10<\/td>\n",
       "      <td>1.000000e-08<\/td>\n",
       "      <td>1.029944e+11<\/td>\n",
       "      <td>2.224547e+46<\/td>\n",
       "      <td>1.250090e+10<\/td>\n",
       "      <td>0.116033<\/td>\n",
       "      <td>0.011603<\/td>\n",
       "      <td>0.104425<\/td>\n",
       "    <\/tr>\n",
       "    <tr>\n",
       "      <th>79<\/th>\n",
       "      <td>10<\/td>\n",
       "      <td>1.000000e-09<\/td>\n",
       "      <td>1.029944e+11<\/td>\n",
       "      <td>2.224547e+46<\/td>\n",
       "      <td>1.250090e+10<\/td>\n",
       "      <td>0.011609<\/td>\n",
       "      <td>0.001159<\/td>\n",
       "      <td>0.010450<\/td>\n",
       "    <\/tr>\n",
       "    <tr>\n",
       "      <th>80<\/th>\n",
       "      <td>10<\/td>\n",
       "      <td>1.000000e-10<\/td>\n",
       "      <td>1.029944e+11<\/td>\n",
       "      <td>2.224547e+46<\/td>\n",
       "      <td>1.250090e+10<\/td>\n",
       "      <td>0.001162<\/td>\n",
       "      <td>0.000117<\/td>\n",
       "      <td>0.001046<\/td>\n",
       "    <\/tr>\n",
       "  <\/tbody>\n",
       "<\/table>\n",
       "<p>81 rows × 8 columns<\/p>\n",
       "<\/div>"
      ]
     },
     "metadata":{
      
     },
     "output_type":"display_data"
    }
   ],
   "metadata":{
    "datalore":{
     "type":"CODE",
     "hide_input_from_viewers":false,
     "hide_output_from_viewers":false
    }
   }
  },
  {
   "cell_type":"code",
   "source":[
    "compare_size_and_cond(hilbert_data)"
   ],
   "execution_count":52,
   "outputs":[
    {
     "data":{
      "text\/plain":[
       "Unsupported"
      ]
     },
     "metadata":{
      
     },
     "output_type":"display_data"
    }
   ],
   "metadata":{
    "datalore":{
     "type":"CODE",
     "hide_input_from_viewers":false,
     "hide_output_from_viewers":false
    }
   }
  },
  {
   "cell_type":"code",
   "source":[
    "compare_cond_and_error(hilbert_data, bias=1e-2)\n",
    "compare_cond_and_error(hilbert_data, bias=1e-6)\n",
    "compare_cond_and_error(hilbert_data, bias=1e-10)"
   ],
   "execution_count":53,
   "outputs":[
    {
     "data":{
      "text\/plain":[
       "Unsupported"
      ]
     },
     "metadata":{
      
     },
     "output_type":"display_data"
    }
   ],
   "metadata":{
    "datalore":{
     "type":"CODE",
     "hide_input_from_viewers":false,
     "hide_output_from_viewers":false
    }
   }
  },
  {
   "cell_type":"code",
   "source":[
    "compare_size_and_error(hilbert_data, bias=1e-2)\n",
    "compare_size_and_error(hilbert_data, bias=1e-6)\n",
    "compare_size_and_error(hilbert_data, bias=1e-10)"
   ],
   "execution_count":54,
   "outputs":[
    {
     "data":{
      "text\/plain":[
       "Unsupported"
      ]
     },
     "metadata":{
      
     },
     "output_type":"display_data"
    }
   ],
   "metadata":{
    "datalore":{
     "type":"CODE",
     "hide_input_from_viewers":false,
     "hide_output_from_viewers":false
    }
   }
  },
  {
   "cell_type":"code",
   "source":[
    "compare_bias_and_error(hilbert_data, n=2)\n",
    "compare_bias_and_error(hilbert_data, n=5)\n",
    "compare_bias_and_error(hilbert_data, n=10)"
   ],
   "execution_count":55,
   "outputs":[
    {
     "data":{
      "text\/plain":[
       "Unsupported"
      ]
     },
     "metadata":{
      
     },
     "output_type":"display_data"
    }
   ],
   "metadata":{
    "datalore":{
     "type":"CODE",
     "hide_input_from_viewers":false,
     "hide_output_from_viewers":false
    }
   }
  },
  {
   "cell_type":"markdown",
   "source":[
    "# Good"
   ],
   "attachments":{
    
   },
   "metadata":{
    "datalore":{
     "type":"MD",
     "hide_input_from_viewers":false,
     "hide_output_from_viewers":false,
     "sheet_delimiter":true
    }
   }
  },
  {
   "cell_type":"code",
   "source":[
    "def get_good_linear_system() -> Tuple[np.ndarray, np.ndarray]:\n",
    "    matrix = np.array([[-400.6, 199.8], [1198.8, -600.4]])\n",
    "    right_part = np.dot(matrix, np.ones(2))\n",
    "    return matrix, right_part"
   ],
   "execution_count":56,
   "outputs":[
    
   ],
   "metadata":{
    "datalore":{
     "type":"CODE",
     "hide_input_from_viewers":false,
     "hide_output_from_viewers":false
    }
   }
  },
  {
   "cell_type":"code",
   "source":[
    "good_data = pd.DataFrame(product([2], [10 ** -i for i in range(2, 11)]), columns=['n', 'bias'])\n",
    "good_data[['cond_s', 'cond_v', 'cond_a', 'error_matrix', 'error_right', 'error_system']] = good_data.apply(\n",
    "    func=lambda row: banchmark_linear_system(*get_good_linear_system(), row.bias),\n",
    "    axis=1,\n",
    ")\n",
    "good_data"
   ],
   "execution_count":57,
   "outputs":[
    {
     "data":{
      "text\/html":[
       "<div>\n",
       "<style scoped>\n",
       "    .dataframe tbody tr th:only-of-type {\n",
       "        vertical-align: middle;\n",
       "    }\n",
       "\n",
       "    .dataframe tbody tr th {\n",
       "        vertical-align: top;\n",
       "    }\n",
       "\n",
       "    .dataframe thead th {\n",
       "        text-align: right;\n",
       "    }\n",
       "<\/style>\n",
       "<table border=\"1\" class=\"dataframe\">\n",
       "  <thead>\n",
       "    <tr style=\"text-align: right;\">\n",
       "      <th><\/th>\n",
       "      <th>n<\/th>\n",
       "      <th>bias<\/th>\n",
       "      <th>cond_s<\/th>\n",
       "      <th>cond_v<\/th>\n",
       "      <th>cond_a<\/th>\n",
       "      <th>error_matrix<\/th>\n",
       "      <th>error_right<\/th>\n",
       "      <th>error_system<\/th>\n",
       "    <\/tr>\n",
       "  <\/thead>\n",
       "  <tbody>\n",
       "    <tr>\n",
       "      <th>0<\/th>\n",
       "      <td>2<\/td>\n",
       "      <td>1.000000e-02<\/td>\n",
       "      <td>1998.0015<\/td>\n",
       "      <td>600.200033<\/td>\n",
       "      <td>600.200033<\/td>\n",
       "      <td>3.492997e-02<\/td>\n",
       "      <td>1.788407e-02<\/td>\n",
       "      <td>1.746498e-02<\/td>\n",
       "    <\/tr>\n",
       "    <tr>\n",
       "      <th>1<\/th>\n",
       "      <td>2<\/td>\n",
       "      <td>1.000000e-03<\/td>\n",
       "      <td>1998.0015<\/td>\n",
       "      <td>600.200033<\/td>\n",
       "      <td>600.200033<\/td>\n",
       "      <td>3.568252e-03<\/td>\n",
       "      <td>1.788407e-03<\/td>\n",
       "      <td>1.784126e-03<\/td>\n",
       "    <\/tr>\n",
       "    <tr>\n",
       "      <th>2<\/th>\n",
       "      <td>2<\/td>\n",
       "      <td>1.000000e-04<\/td>\n",
       "      <td>1998.0015<\/td>\n",
       "      <td>600.200033<\/td>\n",
       "      <td>600.200033<\/td>\n",
       "      <td>3.575956e-04<\/td>\n",
       "      <td>1.788407e-04<\/td>\n",
       "      <td>1.787978e-04<\/td>\n",
       "    <\/tr>\n",
       "    <tr>\n",
       "      <th>3<\/th>\n",
       "      <td>2<\/td>\n",
       "      <td>1.000000e-05<\/td>\n",
       "      <td>1998.0015<\/td>\n",
       "      <td>600.200033<\/td>\n",
       "      <td>600.200033<\/td>\n",
       "      <td>3.576729e-05<\/td>\n",
       "      <td>1.788407e-05<\/td>\n",
       "      <td>1.788364e-05<\/td>\n",
       "    <\/tr>\n",
       "    <tr>\n",
       "      <th>4<\/th>\n",
       "      <td>2<\/td>\n",
       "      <td>1.000000e-06<\/td>\n",
       "      <td>1998.0015<\/td>\n",
       "      <td>600.200033<\/td>\n",
       "      <td>600.200033<\/td>\n",
       "      <td>3.576806e-06<\/td>\n",
       "      <td>1.788407e-06<\/td>\n",
       "      <td>1.788403e-06<\/td>\n",
       "    <\/tr>\n",
       "    <tr>\n",
       "      <th>5<\/th>\n",
       "      <td>2<\/td>\n",
       "      <td>1.000000e-07<\/td>\n",
       "      <td>1998.0015<\/td>\n",
       "      <td>600.200033<\/td>\n",
       "      <td>600.200033<\/td>\n",
       "      <td>3.576814e-07<\/td>\n",
       "      <td>1.788407e-07<\/td>\n",
       "      <td>1.788408e-07<\/td>\n",
       "    <\/tr>\n",
       "    <tr>\n",
       "      <th>6<\/th>\n",
       "      <td>2<\/td>\n",
       "      <td>1.000000e-08<\/td>\n",
       "      <td>1998.0015<\/td>\n",
       "      <td>600.200033<\/td>\n",
       "      <td>600.200033<\/td>\n",
       "      <td>3.576818e-08<\/td>\n",
       "      <td>1.788409e-08<\/td>\n",
       "      <td>1.788409e-08<\/td>\n",
       "    <\/tr>\n",
       "    <tr>\n",
       "      <th>7<\/th>\n",
       "      <td>2<\/td>\n",
       "      <td>1.000000e-09<\/td>\n",
       "      <td>1998.0015<\/td>\n",
       "      <td>600.200033<\/td>\n",
       "      <td>600.200033<\/td>\n",
       "      <td>3.576864e-09<\/td>\n",
       "      <td>1.788375e-09<\/td>\n",
       "      <td>1.788451e-09<\/td>\n",
       "    <\/tr>\n",
       "    <tr>\n",
       "      <th>8<\/th>\n",
       "      <td>2<\/td>\n",
       "      <td>1.000000e-10<\/td>\n",
       "      <td>1998.0015<\/td>\n",
       "      <td>600.200033<\/td>\n",
       "      <td>600.200033<\/td>\n",
       "      <td>3.577433e-10<\/td>\n",
       "      <td>1.788339e-10<\/td>\n",
       "      <td>1.788717e-10<\/td>\n",
       "    <\/tr>\n",
       "  <\/tbody>\n",
       "<\/table>\n",
       "<\/div>"
      ]
     },
     "metadata":{
      
     },
     "output_type":"display_data"
    }
   ],
   "metadata":{
    "datalore":{
     "type":"CODE",
     "hide_input_from_viewers":false,
     "hide_output_from_viewers":false
    }
   }
  },
  {
   "cell_type":"code",
   "source":[
    "compare_bias_and_error(good_data, n=2)"
   ],
   "execution_count":58,
   "outputs":[
    {
     "data":{
      "text\/plain":[
       "Unsupported"
      ]
     },
     "metadata":{
      
     },
     "output_type":"display_data"
    }
   ],
   "metadata":{
    "datalore":{
     "type":"CODE",
     "hide_input_from_viewers":false,
     "hide_output_from_viewers":false
    }
   }
  }
 ],
 "metadata":{
  "datalore":{
   "version":1,
   "computation_mode":"JUPYTER",
   "package_manager":"pip",
   "base_environment":"default",
   "packages":[
    
   ]
  }
 },
 "nbformat":4,
 "nbformat_minor":4
}
